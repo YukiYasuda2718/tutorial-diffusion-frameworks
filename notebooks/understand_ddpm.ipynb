{
 "cells": [
  {
   "cell_type": "code",
   "execution_count": null,
   "id": "0e2ff9e8",
   "metadata": {},
   "outputs": [],
   "source": [
    "%load_ext autoreload\n",
    "%autoreload 2\n",
    "%matplotlib inline"
   ]
  },
  {
   "cell_type": "markdown",
   "id": "34ad1225",
   "metadata": {},
   "source": [
    "# Import"
   ]
  },
  {
   "cell_type": "code",
   "execution_count": null,
   "id": "3fa54e6c",
   "metadata": {},
   "outputs": [],
   "source": [
    "import sys\n",
    "from logging import INFO, StreamHandler, getLogger\n",
    "\n",
    "logger = getLogger()\n",
    "if not logger.hasHandlers():\n",
    "    logger.addHandler(StreamHandler(sys.stdout))\n",
    "logger.setLevel(INFO)"
   ]
  },
  {
   "cell_type": "code",
   "execution_count": null,
   "id": "372763d4",
   "metadata": {},
   "outputs": [],
   "source": [
    "import os\n",
    "import math\n",
    "import pathlib\n",
    "\n",
    "import torch\n",
    "import xarray as xr\n",
    "import numpy as np\n",
    "import matplotlib.pyplot as plt\n",
    "\n",
    "from src.frameworks.ddpm import DDPMConfig, DDPM\n",
    "\n",
    "plt.rcParams[\"font.family\"] = \"serif\"\n",
    "plt.style.use(\"tableau-colorblind10\")"
   ]
  },
  {
   "cell_type": "markdown",
   "id": "1dc46bc5",
   "metadata": {},
   "source": [
    "# Define constants"
   ]
  },
  {
   "cell_type": "code",
   "execution_count": null,
   "id": "e97d004a",
   "metadata": {},
   "outputs": [],
   "source": [
    "ROOT_DIR = pathlib.Path(os.environ[\"PYTHONPATH\"].split(\":\")[0]).resolve()\n",
    "DL_DATA_DIR = str(ROOT_DIR / \"data\" / \"DL_data\" / \"lorenz96\")\n",
    "os.makedirs(DL_DATA_DIR, exist_ok=True)"
   ]
  },
  {
   "cell_type": "markdown",
   "id": "d2965f0a",
   "metadata": {},
   "source": [
    "# Make a DDPM instance"
   ]
  },
  {
   "cell_type": "code",
   "execution_count": null,
   "id": "0e0b0e91",
   "metadata": {},
   "outputs": [],
   "source": [
    "mu = 3.0\n",
    "sigma = np.sqrt(2.0 * mu)\n",
    "\n",
    "std_init = 2.0\n",
    "decay_init = 3.0\n",
    "\n",
    "config = DDPMConfig(\n",
    "    start_beta=1e-3,\n",
    "    end_beta=5e1,\n",
    "    n_timesteps=1_000,\n",
    "    n_channels=1,\n",
    "    n_spaces=16,\n",
    ")\n",
    "\n",
    "\n",
    "class ExactScoreFunc(torch.nn.Module):\n",
    "\n",
    "    def __init__(\n",
    "        self,\n",
    "        mu: float,\n",
    "        sigma: float,\n",
    "        n_t: int,\n",
    "        decay_init: float,\n",
    "        std_init: float,\n",
    "    ):\n",
    "        super().__init__()\n",
    "\n",
    "        times = torch.linspace(0, 1, n_t + 1, dtype=torch.float32)\n",
    "        self.m_t = torch.exp(-mu * times)[1:]\n",
    "        self.v_t = (sigma**2 / (2 * mu) * (1.0 - torch.exp(-2 * mu * times)))[1:]\n",
    "        self.s_t = torch.sqrt(self.v_t)\n",
    "\n",
    "        self.decay_init = decay_init\n",
    "        self.std_init = std_init\n",
    "        self.out_channel = 1\n",
    "\n",
    "    def forward(self, yt: torch.Tensor, t_index: int, **kwargs) -> torch.Tensor:\n",
    "        # score (\\nabla log p)\n",
    "        m_t = torch.index_select(self.m_t, dim=0, index=t_index)\n",
    "        s_t = torch.index_select(self.s_t, dim=0, index=t_index)\n",
    "        v_t = torch.index_select(self.v_t, dim=0, index=t_index)\n",
    "        tot_v_t = self.std_init**2 * m_t**2 + v_t\n",
    "        score = -(yt - self.decay_init * m_t[:, None, None]) / tot_v_t[:, None, None]\n",
    "        return (-s_t[:, None, None] * score).to(torch.float32)\n",
    "\n",
    "\n",
    "score_network = ExactScoreFunc(\n",
    "    mu=mu, sigma=sigma, n_t=config.n_timesteps, std_init=std_init, decay_init=decay_init\n",
    ")\n",
    "\n",
    "ddpm = DDPM(config=config, neural_net=score_network)"
   ]
  },
  {
   "cell_type": "markdown",
   "id": "fca66794",
   "metadata": {},
   "source": [
    "# Check variance preserving"
   ]
  },
  {
   "cell_type": "code",
   "execution_count": null,
   "id": "b0c965b0",
   "metadata": {},
   "outputs": [],
   "source": [
    "plt.plot(ddpm.decays, label=\"decays\")\n",
    "plt.plot(ddpm.stds, label=\"stds\")\n",
    "vars = ddpm.decays**2 + ddpm.stds**2\n",
    "plt.plot(vars, label=\"vars\")\n",
    "plt.axhline(0.0, ls=\"--\")\n",
    "plt.xlabel(\"Num. of Time Steps\")\n",
    "plt.legend()\n",
    "plt.show()"
   ]
  },
  {
   "cell_type": "markdown",
   "id": "59b90912",
   "metadata": {},
   "source": [
    "# Forward process"
   ]
  },
  {
   "cell_type": "code",
   "execution_count": null,
   "id": "a44483fa",
   "metadata": {},
   "outputs": [],
   "source": [
    "b = 10_000\n",
    "\n",
    "y0 = score_network.decay_init + score_network.std_init * torch.randn(\n",
    "    b, config.n_channels, config.n_spaces\n",
    ")\n",
    "\n",
    "\n",
    "fig, axes = plt.subplots(2, 6, sharex=True, sharey=True, figsize=(15, 6))\n",
    "for t, ax in zip(torch.arange(-1, config.n_timesteps + 1, 100), axes.flatten()):\n",
    "    if t == -1:\n",
    "        yt = y0.detach().clone()\n",
    "    else:\n",
    "        noise = torch.randn_like(y0)\n",
    "        yt = ddpm._forward_sample_y(\n",
    "            y0=y0,\n",
    "            t_index=torch.full((b,), fill_value=t, dtype=torch.long),\n",
    "            noise=noise,\n",
    "        )\n",
    "    data = yt[:, 0, 0].numpy().flatten()\n",
    "    ax.hist(data, range=(-5, 5), bins=50, density=True)\n",
    "    ax.set_xlim(-5, 5)\n",
    "    ax.set_title(f\"t={t+1}\\nmean={np.mean(data):.2f},std={np.std(data):.2f}\")\n",
    "    ax.set_ylabel(\"PDF\")\n",
    "    ax.axvline(0, color=\"k\")\n",
    "plt.tight_layout()\n",
    "plt.show()"
   ]
  },
  {
   "cell_type": "markdown",
   "id": "5e400548",
   "metadata": {},
   "source": [
    "# Backward process"
   ]
  },
  {
   "cell_type": "code",
   "execution_count": null,
   "id": "6942605d",
   "metadata": {},
   "outputs": [],
   "source": [
    "ddpm.net.eval()\n",
    "lst_img = ddpm.backward_sample_y(n_batches=10_000, n_return_steps=10)"
   ]
  },
  {
   "cell_type": "code",
   "execution_count": null,
   "id": "e93a880a",
   "metadata": {},
   "outputs": [],
   "source": [
    "fig, axes = plt.subplots(2, 6, sharex=True, sharey=True, figsize=(15, 6))\n",
    "\n",
    "for t, ax in zip(np.arange(0, config.n_timesteps + 1, 100), axes.flatten()):\n",
    "    data = lst_img[int(t)][:, 0, 0].numpy().flatten()\n",
    "    ax.hist(data, range=(-5, 5), bins=50, density=True)\n",
    "    ax.set_xlim(-5, 5)\n",
    "    ax.set_title(f\"t={t}\\nmean={np.mean(data):.2f},std={np.std(data):.2f}\")\n",
    "    ax.set_ylabel(\"PDF\")\n",
    "    ax.axvline(0, color=\"k\")\n",
    "plt.tight_layout()\n",
    "plt.show()"
   ]
  },
  {
   "cell_type": "code",
   "execution_count": null,
   "id": "4702523a",
   "metadata": {},
   "outputs": [],
   "source": []
  }
 ],
 "metadata": {
  "kernelspec": {
   "display_name": "Python 3",
   "language": "python",
   "name": "python3"
  },
  "language_info": {
   "codemirror_mode": {
    "name": "ipython",
    "version": 3
   },
   "file_extension": ".py",
   "mimetype": "text/x-python",
   "name": "python",
   "nbconvert_exporter": "python",
   "pygments_lexer": "ipython3",
   "version": "3.11.13"
  }
 },
 "nbformat": 4,
 "nbformat_minor": 5
}
