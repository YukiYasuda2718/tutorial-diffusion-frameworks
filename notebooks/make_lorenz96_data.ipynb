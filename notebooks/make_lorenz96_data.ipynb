{
 "cells": [
  {
   "cell_type": "code",
   "execution_count": null,
   "id": "646fb684",
   "metadata": {},
   "outputs": [],
   "source": [
    "%load_ext autoreload\n",
    "%autoreload 2\n",
    "%matplotlib inline"
   ]
  },
  {
   "cell_type": "markdown",
   "id": "a60db7d1",
   "metadata": {},
   "source": [
    "# Import"
   ]
  },
  {
   "cell_type": "code",
   "execution_count": null,
   "id": "90ee834e",
   "metadata": {},
   "outputs": [],
   "source": [
    "import sys\n",
    "from logging import INFO, StreamHandler, getLogger\n",
    "\n",
    "logger = getLogger()\n",
    "if not logger.hasHandlers():\n",
    "    logger.addHandler(StreamHandler(sys.stdout))\n",
    "logger.setLevel(INFO)"
   ]
  },
  {
   "cell_type": "code",
   "execution_count": null,
   "id": "d29aea89",
   "metadata": {},
   "outputs": [],
   "source": [
    "import os\n",
    "import math\n",
    "import pathlib\n",
    "\n",
    "import torch\n",
    "import xarray as xr\n",
    "import numpy as np\n",
    "import matplotlib.pyplot as plt\n",
    "\n",
    "from src.dynamics.lorenz96 import integrate_lorenz96\n",
    "from src.utils.random_seed_helper import set_seeds\n",
    "\n",
    "plt.rcParams[\"font.family\"] = \"serif\"\n",
    "plt.style.use(\"tableau-colorblind10\")"
   ]
  },
  {
   "cell_type": "markdown",
   "id": "eb32ee32",
   "metadata": {},
   "source": [
    "# Define constants"
   ]
  },
  {
   "cell_type": "code",
   "execution_count": null,
   "id": "eb89892b",
   "metadata": {},
   "outputs": [],
   "source": [
    "ROOT_DIR = pathlib.Path(os.environ[\"PYTHONPATH\"].split(\":\")[0]).resolve()\n",
    "DL_DATA_DIR = str(ROOT_DIR / \"data\" / \"DL_data\" / \"lorenz96\")\n",
    "os.makedirs(DL_DATA_DIR, exist_ok=True)"
   ]
  },
  {
   "cell_type": "code",
   "execution_count": null,
   "id": "06f70031",
   "metadata": {},
   "outputs": [],
   "source": [
    "N_BATCHES = 10_000  # 作成するデータセット数\n",
    "N_SPACES = 32  # 空間の格子点数\n",
    "N_TIMES = 10_000  # 時間ステップ数\n",
    "\n",
    "FORCING = 8.0\n",
    "AMP_PERTURBATION = 0.01\n",
    "DT = 0.005\n",
    "SEED = 42"
   ]
  },
  {
   "cell_type": "markdown",
   "id": "706db6ee",
   "metadata": {},
   "source": [
    "# Integrate Lorenz96"
   ]
  },
  {
   "cell_type": "markdown",
   "id": "27b2f351",
   "metadata": {},
   "source": [
    "$$\n",
    "\\frac{dx_i}{dt} = (x_{i+1}-x_{i-2})x_{i-1} - x_i + F\n",
    "$$\n",
    "- $F$ は上の設定で $F=8$ としている．これはカオスレジームとして知られる典型的な設定"
   ]
  },
  {
   "cell_type": "code",
   "execution_count": null,
   "id": "ff5f3d8f",
   "metadata": {},
   "outputs": [],
   "source": [
    "dtype = torch.float32\n",
    "device = torch.device(\"cpu\")"
   ]
  },
  {
   "cell_type": "code",
   "execution_count": null,
   "id": "f255168a",
   "metadata": {},
   "outputs": [],
   "source": [
    "set_seeds(SEED)\n",
    "x0 = FORCING * torch.ones(size=(N_BATCHES, N_SPACES), dtype=dtype, device=device)\n",
    "x0 += torch.randn_like(x0) * AMP_PERTURBATION"
   ]
  },
  {
   "cell_type": "code",
   "execution_count": null,
   "id": "a5c3eed2",
   "metadata": {},
   "outputs": [],
   "source": [
    "states = integrate_lorenz96(x0=x0, forcing=FORCING, n_steps=N_TIMES, dt=DT)"
   ]
  },
  {
   "cell_type": "code",
   "execution_count": null,
   "id": "945f98d1",
   "metadata": {},
   "outputs": [],
   "source": [
    "if torch.any(torch.isnan(states)):\n",
    "    logger.warning(\"NaNs appear.\")\n",
    "elif torch.any(~torch.isfinite(states)):\n",
    "    logger.warning(\"Infs appear\")\n",
    "else:\n",
    "    logger.info(\"Integration was successfully finished.\")"
   ]
  },
  {
   "cell_type": "markdown",
   "id": "c9d7e689",
   "metadata": {},
   "source": [
    "# Plot results"
   ]
  },
  {
   "cell_type": "code",
   "execution_count": null,
   "id": "9ae16961",
   "metadata": {},
   "outputs": [],
   "source": [
    "plt.rcParams[\"font.size\"] = 14\n",
    "fig, axes = plt.subplots(1, 3, sharex=True, sharey=True, figsize=[10, 4])\n",
    "\n",
    "for i, ax in enumerate(axes.flatten()):\n",
    "    d = states[i].numpy()[::40][\n",
    "        -32:\n",
    "    ]  ## 40 時間ステップごとに抽出し，最後の 32 要素を時間に沿って抽出\n",
    "    ts = np.arange(d.shape[0]) * 20 * DT\n",
    "    xs = np.linspace(0, 2 * math.pi, N_SPACES, endpoint=False)\n",
    "    X, T = np.meshgrid(xs, ts, indexing=\"ij\")\n",
    "    ret = ax.pcolormesh(\n",
    "        X, T, d.transpose(), vmin=-9, vmax=9, cmap=\"coolwarm\", shading=\"nearest\"\n",
    "    )\n",
    "    cbar = fig.colorbar(ret, ax=ax)\n",
    "    ax.set_xlabel(r\"Space, $x$\")\n",
    "    ax.set_ylabel(r\"Time, $t$\")\n",
    "plt.tight_layout()\n",
    "plt.show()"
   ]
  },
  {
   "cell_type": "markdown",
   "id": "2de67ec7",
   "metadata": {},
   "source": [
    "# Write out"
   ]
  },
  {
   "cell_type": "code",
   "execution_count": null,
   "id": "3957c2d3",
   "metadata": {},
   "outputs": [],
   "source": [
    "outs = states[:, ::40][:, -32:]\n",
    "## 40 時間ステップごとに抽出し，最後の 32 要素を時間に沿って抽出\n",
    "assert outs.shape == (N_BATCHES, 32, N_SPACES), f\"{outs.shape=}\""
   ]
  },
  {
   "cell_type": "code",
   "execution_count": null,
   "id": "aa8bd80b",
   "metadata": {},
   "outputs": [],
   "source": [
    "ts = np.arange(0.0, outs.shape[1]) * (DT * 40)\n",
    "xs = np.linspace(0, 2 * math.pi, N_SPACES, endpoint=False)\n",
    "\n",
    "da = xr.DataArray(\n",
    "    outs.numpy().astype(np.float32),\n",
    "    dims=[\"batch\", \"time\", \"space\"],\n",
    "    coords={\n",
    "        \"batch\": np.arange(N_BATCHES, dtype=np.int32),\n",
    "        \"time\": ts.astype(np.float32),\n",
    "        \"space\": xs.astype(np.float32),\n",
    "    },\n",
    "    name=\"lorenz96_trajectory\",\n",
    "    attrs={\n",
    "        \"forcing\": FORCING,\n",
    "        \"dt\": DT,\n",
    "        \"seed\": SEED,\n",
    "        \"amp_perturb\": AMP_PERTURBATION,\n",
    "    },\n",
    ")"
   ]
  },
  {
   "cell_type": "code",
   "execution_count": null,
   "id": "9027a51f",
   "metadata": {},
   "outputs": [],
   "source": [
    "p = f\"{DL_DATA_DIR}/lorenz96_v00.nc\"\n",
    "da.to_netcdf(path=p)"
   ]
  },
  {
   "cell_type": "code",
   "execution_count": null,
   "id": "9db737a7",
   "metadata": {},
   "outputs": [],
   "source": []
  }
 ],
 "metadata": {
  "kernelspec": {
   "display_name": "Python 3",
   "language": "python",
   "name": "python3"
  },
  "language_info": {
   "codemirror_mode": {
    "name": "ipython",
    "version": 3
   },
   "file_extension": ".py",
   "mimetype": "text/x-python",
   "name": "python",
   "nbconvert_exporter": "python",
   "pygments_lexer": "ipython3",
   "version": "3.11.13"
  }
 },
 "nbformat": 4,
 "nbformat_minor": 5
}
