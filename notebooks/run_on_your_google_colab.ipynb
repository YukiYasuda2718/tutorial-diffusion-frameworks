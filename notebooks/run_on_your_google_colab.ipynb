{
 "cells": [
  {
   "cell_type": "markdown",
   "id": "8cdc7594",
   "metadata": {},
   "source": [
    "# Import"
   ]
  },
  {
   "cell_type": "code",
   "execution_count": null,
   "id": "e1e95c50",
   "metadata": {},
   "outputs": [],
   "source": [
    "import sys\n",
    "from logging import INFO, StreamHandler, getLogger\n",
    "\n",
    "logger = getLogger()\n",
    "if not logger.hasHandlers():\n",
    "    logger.addHandler(StreamHandler(sys.stdout))\n",
    "logger.setLevel(INFO)"
   ]
  },
  {
   "cell_type": "code",
   "execution_count": null,
   "id": "261a4966",
   "metadata": {},
   "outputs": [],
   "source": [
    "import os\n",
    "import math\n",
    "import random\n",
    "import pathlib\n",
    "\n",
    "import torch\n",
    "import xarray as xr\n",
    "import numpy as np\n",
    "import matplotlib.pyplot as plt\n",
    "from torch import Tensor\n",
    "from tqdm.notebook import tqdm\n",
    "\n",
    "plt.rcParams[\"font.family\"] = \"serif\"\n",
    "plt.style.use(\"tableau-colorblind10\")"
   ]
  },
  {
   "cell_type": "markdown",
   "id": "096104be",
   "metadata": {},
   "source": [
    "# Make Lorenz96 data"
   ]
  },
  {
   "cell_type": "markdown",
   "id": "af45d14c",
   "metadata": {},
   "source": [
    "## Preferences"
   ]
  },
  {
   "cell_type": "code",
   "execution_count": null,
   "id": "0fd660a2",
   "metadata": {},
   "outputs": [],
   "source": [
    "ROOT_DIR = pathlib.Path(\".\").resolve()\n",
    "DL_DATA_DIR = str(ROOT_DIR / \"data\" / \"DL_data\" / \"lorenz96\")\n",
    "os.makedirs(DL_DATA_DIR, exist_ok=True)"
   ]
  },
  {
   "cell_type": "code",
   "execution_count": null,
   "id": "f0b602b9",
   "metadata": {},
   "outputs": [],
   "source": [
    "N_BATCHES = 10_000  # 作成するデータセット数\n",
    "N_SPACES = 32  # 空間の格子点数\n",
    "N_TIMES = 10_000  # 時間ステップ数\n",
    "\n",
    "FORCING = 8.0\n",
    "AMP_PERTURBATION = 0.01\n",
    "DT = 0.005\n",
    "SEED = 42"
   ]
  },
  {
   "cell_type": "markdown",
   "id": "c6382657",
   "metadata": {},
   "source": [
    "## Methods"
   ]
  },
  {
   "cell_type": "code",
   "execution_count": null,
   "id": "6354d9e0",
   "metadata": {},
   "outputs": [],
   "source": [
    "def integrate_lorenz96(x0: Tensor, forcing: float, n_steps: int, dt: float) -> Tensor:\n",
    "\n",
    "    assert isinstance(x0, Tensor) and x0.ndim == 2  # batch and space\n",
    "    assert isinstance(forcing, float)\n",
    "    assert isinstance(n_steps, int) and n_steps > 0\n",
    "    assert isinstance(dt, float) and dt > 0.0\n",
    "\n",
    "    current = x0.clone().detach()\n",
    "    states = [current.clone().detach()]\n",
    "\n",
    "    for _ in tqdm(range(n_steps)):\n",
    "        rhs = _lorenz96_rhs(x=current, forcing=forcing)\n",
    "        current = current + dt * rhs\n",
    "        states.append(current.clone().detach())\n",
    "\n",
    "    return torch.stack(states, dim=1).cpu()  # stack along time dim\n",
    "\n",
    "\n",
    "def _lorenz96_rhs(x: Tensor, forcing: float) -> Tensor:\n",
    "\n",
    "    a = x.roll(shifts=-1, dims=1)\n",
    "    b = x.roll(shifts=2, dims=1)\n",
    "    c = x.roll(shifts=1, dims=1)\n",
    "    dxdt = (a - b) * c - x + forcing\n",
    "\n",
    "    return dxdt\n",
    "\n",
    "\n",
    "def set_seeds(seed: int = 42, use_deterministic: bool = True) -> None:\n",
    "    try:\n",
    "        os.environ[\"PYTHONHASHSEED\"] = str(seed)\n",
    "        random.seed(seed)\n",
    "        np.random.seed(seed)\n",
    "        torch.manual_seed(seed)\n",
    "        if torch.cuda.is_available():\n",
    "            torch.cuda.manual_seed(seed)\n",
    "\n",
    "        if use_deterministic:\n",
    "            torch.use_deterministic_algorithms(True, warn_only=True)\n",
    "\n",
    "        torch.backends.cudnn.deterministic = True\n",
    "        torch.backends.cudnn.benchmark = False\n",
    "    except Exception as e:\n",
    "        logger.error(e)"
   ]
  },
  {
   "cell_type": "markdown",
   "id": "86ea0a52",
   "metadata": {},
   "source": [
    "## Integrate Lorenz96"
   ]
  },
  {
   "cell_type": "code",
   "execution_count": null,
   "id": "2c568a1b",
   "metadata": {},
   "outputs": [],
   "source": [
    "dtype = torch.float32\n",
    "device = torch.device(\"cpu\")\n",
    "\n",
    "set_seeds(SEED)\n",
    "x0 = FORCING * torch.ones(size=(N_BATCHES, N_SPACES), dtype=dtype, device=device)\n",
    "x0 += torch.randn_like(x0) * AMP_PERTURBATION"
   ]
  },
  {
   "cell_type": "code",
   "execution_count": null,
   "id": "9eb2f8ab",
   "metadata": {},
   "outputs": [],
   "source": [
    "states = integrate_lorenz96(x0=x0, forcing=FORCING, n_steps=N_TIMES, dt=DT)\n",
    "\n",
    "if torch.any(torch.isnan(states)):\n",
    "    logger.warning(\"NaNs appear.\")\n",
    "elif torch.any(~torch.isfinite(states)):\n",
    "    logger.warning(\"Infs appear\")\n",
    "else:\n",
    "    logger.info(\"Integration was successfully finished.\")"
   ]
  },
  {
   "cell_type": "markdown",
   "id": "793a4293",
   "metadata": {},
   "source": [
    "## Plot results"
   ]
  },
  {
   "cell_type": "code",
   "execution_count": null,
   "id": "0821922e",
   "metadata": {},
   "outputs": [],
   "source": [
    "plt.rcParams[\"font.size\"] = 14\n",
    "fig, axes = plt.subplots(1, 3, sharex=True, sharey=True, figsize=[10, 4])\n",
    "\n",
    "for i, ax in enumerate(axes.flatten()):\n",
    "    d = states[i].numpy()[::40][\n",
    "        -32:\n",
    "    ]  ## 40 時間ステップごとに抽出し，最後の 32 要素を時間に沿って抽出\n",
    "    ts = np.arange(d.shape[0]) * 20 * DT\n",
    "    xs = np.linspace(0, 2 * math.pi, N_SPACES, endpoint=False)\n",
    "    X, T = np.meshgrid(xs, ts, indexing=\"ij\")\n",
    "    ret = ax.pcolormesh(\n",
    "        X, T, d.transpose(), vmin=-9, vmax=9, cmap=\"coolwarm\", shading=\"nearest\"\n",
    "    )\n",
    "    cbar = fig.colorbar(ret, ax=ax)\n",
    "    ax.set_xlabel(r\"Space, $x$\")\n",
    "    ax.set_ylabel(r\"Time, $t$\")\n",
    "plt.tight_layout()\n",
    "plt.show()"
   ]
  },
  {
   "cell_type": "markdown",
   "id": "85d22445",
   "metadata": {},
   "source": [
    "## Write out"
   ]
  },
  {
   "cell_type": "code",
   "execution_count": null,
   "id": "583ae7c9",
   "metadata": {},
   "outputs": [],
   "source": [
    "outs = states[:, ::40][:, -32:]\n",
    "## 40 時間ステップごとに抽出し，最後の 32 要素を時間に沿って抽出\n",
    "assert outs.shape == (N_BATCHES, 32, N_SPACES), f\"{outs.shape=}\"\n",
    "\n",
    "ts = np.arange(0.0, outs.shape[1]) * (DT * 40)\n",
    "xs = np.linspace(0, 2 * math.pi, N_SPACES, endpoint=False)\n",
    "\n",
    "da = xr.DataArray(\n",
    "    outs.numpy().astype(np.float32),\n",
    "    dims=[\"batch\", \"time\", \"space\"],\n",
    "    coords={\n",
    "        \"batch\": np.arange(N_BATCHES, dtype=np.int32),\n",
    "        \"time\": ts.astype(np.float32),\n",
    "        \"space\": xs.astype(np.float32),\n",
    "    },\n",
    "    name=\"lorenz96_trajectory\",\n",
    "    attrs={\n",
    "        \"forcing\": FORCING,\n",
    "        \"dt\": DT,\n",
    "        \"seed\": SEED,\n",
    "        \"amp_perturb\": AMP_PERTURBATION,\n",
    "    },\n",
    ")\n",
    "\n",
    "p = f\"{DL_DATA_DIR}/lorenz96_v00.nc\"\n",
    "da.to_netcdf(path=p)"
   ]
  },
  {
   "cell_type": "markdown",
   "id": "fb9714ff",
   "metadata": {},
   "source": [
    "# Tran diffusion model"
   ]
  },
  {
   "cell_type": "code",
   "execution_count": null,
   "id": "01480e45",
   "metadata": {},
   "outputs": [],
   "source": []
  }
 ],
 "metadata": {
  "kernelspec": {
   "display_name": "Python 3",
   "language": "python",
   "name": "python3"
  },
  "language_info": {
   "codemirror_mode": {
    "name": "ipython",
    "version": 3
   },
   "file_extension": ".py",
   "mimetype": "text/x-python",
   "name": "python",
   "nbconvert_exporter": "python",
   "pygments_lexer": "ipython3",
   "version": "3.11.13"
  }
 },
 "nbformat": 4,
 "nbformat_minor": 5
}
