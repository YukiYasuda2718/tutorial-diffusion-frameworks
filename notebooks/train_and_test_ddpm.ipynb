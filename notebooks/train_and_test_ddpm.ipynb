{
 "cells": [
  {
   "cell_type": "code",
   "execution_count": null,
   "id": "aacc0dab",
   "metadata": {},
   "outputs": [],
   "source": [
    "%load_ext autoreload\n",
    "%autoreload 2\n",
    "%matplotlib inline"
   ]
  },
  {
   "cell_type": "markdown",
   "id": "77721671",
   "metadata": {},
   "source": [
    "# Import"
   ]
  },
  {
   "cell_type": "code",
   "execution_count": null,
   "id": "46dce5e9",
   "metadata": {},
   "outputs": [],
   "source": [
    "import sys\n",
    "from logging import INFO, StreamHandler, getLogger\n",
    "\n",
    "logger = getLogger()\n",
    "if not logger.hasHandlers():\n",
    "    logger.addHandler(StreamHandler(sys.stdout))\n",
    "logger.setLevel(INFO)"
   ]
  },
  {
   "cell_type": "code",
   "execution_count": null,
   "id": "f02d9ad9",
   "metadata": {},
   "outputs": [],
   "source": [
    "import os\n",
    "import time\n",
    "import math\n",
    "import pathlib\n",
    "\n",
    "import torch\n",
    "import xarray as xr\n",
    "import numpy as np\n",
    "import pandas as pd\n",
    "import matplotlib.pyplot as plt\n",
    "from tqdm.notebook import tqdm\n",
    "from torch.cuda.amp import GradScaler\n",
    "\n",
    "from src.utils.random_seed_helper import set_seeds, seed_worker, get_torch_generator\n",
    "from src.utils.psd import compute_2d_psd_for_lorenz96, compute_1d_psds_for_lorenz96\n",
    "from src.frameworks.ddpm import DDPM, DDPMConfig\n",
    "from src.datasets.dataset_lorenz96 import DatasetLorenz96\n",
    "from src.configs.lorenz96_config import ExperimentLorenz96Config\n",
    "from src.neural_networks.unet_1d import Unet1D\n",
    "from src.training.loss_maker import make_loss\n",
    "from src.training.optim_helper import optimize_ddpm\n",
    "\n",
    "plt.rcParams[\"font.family\"] = \"serif\"\n",
    "plt.style.use(\"tableau-colorblind10\")\n",
    "os.environ[\"CUBLAS_WORKSPACE_CONFIG\"] = r\":4096:8\"  # to make calculations deterministic"
   ]
  },
  {
   "cell_type": "markdown",
   "id": "c4240d6a",
   "metadata": {},
   "source": [
    "# Define constants"
   ]
  },
  {
   "cell_type": "code",
   "execution_count": null,
   "id": "b86f71fb",
   "metadata": {},
   "outputs": [],
   "source": [
    "DEVICE = \"cuda:0\"\n",
    "ROOT_DIR = pathlib.Path(os.environ[\"PYTHONPATH\"].split(\":\")[0]).resolve()\n",
    "DL_DATA_FILE = str(ROOT_DIR / \"data\" / \"DL_data\" / \"lorenz96\" / \"lorenz96_v00.nc\")\n",
    "DL_RESULT_DIR = str(ROOT_DIR / \"data\" / \"DL_model\" / \"lorenz96_v00\")\n",
    "os.makedirs(DL_RESULT_DIR, exist_ok=True)"
   ]
  },
  {
   "cell_type": "markdown",
   "id": "05c47050",
   "metadata": {},
   "source": [
    "# Make config"
   ]
  },
  {
   "cell_type": "markdown",
   "id": "b9c81c79",
   "metadata": {},
   "source": [
    "- 分散保存型 (Variance-Preserving; VP) の拡散モデルを扱う．\n",
    "- 順過程は下の様に書ける\n",
    "$$\n",
    "\\begin{align}\n",
    "dx_t &= -\\frac{1}{2} \\beta_t x \\; dt + \\sqrt{\\beta_t} \\; dW \\quad (t \\in [0,1]) \\\\\n",
    "\\beta_t &= \\beta_{\\rm start} + t \\beta_{\\rm end}\n",
    "\\end{align}\n",
    "$$"
   ]
  },
  {
   "cell_type": "code",
   "execution_count": null,
   "id": "e6df5ea7",
   "metadata": {},
   "outputs": [],
   "source": [
    "config = ExperimentLorenz96Config(\n",
    "    # Training settings\n",
    "    batch_size=100,\n",
    "    loss_name=\"L2\",\n",
    "    learning_rate=1e-3,\n",
    "    total_epochs=40,\n",
    "    save_interval=4,\n",
    "    use_auto_mix_precision=False,\n",
    "    # For U-Net\n",
    "    n_features=32,\n",
    "    list_channel=[1, 2, 4],\n",
    "    # For DDPM\n",
    "    ddpm=DDPMConfig(\n",
    "        start_beta=1e1,  # start_beta == end_beta の設定により，beta を定数にする\n",
    "        end_beta=1e1,\n",
    "        n_timesteps=1_000,\n",
    "        n_channels=32,  # データの時間ステップ数をチャネル数として指定\n",
    "        n_spaces=32,  # 空間格子点数．dont change n_channels and n_spaces\n",
    "    ),\n",
    ")\n",
    "config.save(f\"{DL_RESULT_DIR}/config.yml\")"
   ]
  },
  {
   "cell_type": "code",
   "execution_count": null,
   "id": "a57bb69c",
   "metadata": {},
   "outputs": [],
   "source": [
    "# You can load your saved config.\n",
    "# config = ExperimentLorenz96Config.load(f\"{DL_RESULT_DIR}/config.yml\")\n",
    "# config"
   ]
  },
  {
   "cell_type": "markdown",
   "id": "a9327275",
   "metadata": {},
   "source": [
    "# Make dataloader"
   ]
  },
  {
   "cell_type": "code",
   "execution_count": null,
   "id": "2b07b790",
   "metadata": {},
   "outputs": [],
   "source": [
    "dataloader = torch.utils.data.DataLoader(\n",
    "    dataset=DatasetLorenz96(DL_DATA_FILE),\n",
    "    batch_size=config.batch_size,\n",
    "    drop_last=True,\n",
    "    shuffle=True,\n",
    "    pin_memory=True,\n",
    "    num_workers=2,\n",
    "    worker_init_fn=seed_worker,\n",
    "    generator=get_torch_generator(),\n",
    ")"
   ]
  },
  {
   "cell_type": "code",
   "execution_count": null,
   "id": "3d7c819b",
   "metadata": {},
   "outputs": [],
   "source": [
    "data = next(iter(dataloader))[\"y0\"]\n",
    "assert data.shape == (\n",
    "    config.batch_size,\n",
    "    config.ddpm.n_channels,\n",
    "    config.ddpm.n_spaces,\n",
    ")  # batch, time (=channel), space dims"
   ]
  },
  {
   "cell_type": "markdown",
   "id": "7715d2ab",
   "metadata": {},
   "source": [
    "## Plot"
   ]
  },
  {
   "cell_type": "code",
   "execution_count": null,
   "id": "45c09114",
   "metadata": {},
   "outputs": [],
   "source": [
    "plt.rcParams[\"font.size\"] = 14\n",
    "fig, axes = plt.subplots(1, 3, sharex=True, sharey=True, figsize=[10, 4])\n",
    "\n",
    "for i, ax in enumerate(axes.flatten()):\n",
    "    d = dataloader.dataset.standardize_inversely(data[i].numpy())\n",
    "    ts = np.arange(d.shape[0]) * 0.2  # dt = 0.2\n",
    "    xs = np.linspace(0, 2 * math.pi, 32, endpoint=False)\n",
    "    X, T = np.meshgrid(xs, ts, indexing=\"ij\")\n",
    "    ret = ax.pcolormesh(\n",
    "        X, T, d.transpose(), vmin=-9, vmax=9, cmap=\"coolwarm\", shading=\"nearest\"\n",
    "    )\n",
    "    cbar = fig.colorbar(ret, ax=ax)\n",
    "    ax.set_xlabel(r\"Space, $x$\")\n",
    "    ax.set_ylabel(r\"Time, $t$\")\n",
    "plt.tight_layout()\n",
    "plt.show()"
   ]
  },
  {
   "cell_type": "markdown",
   "id": "fc531bcb",
   "metadata": {},
   "source": [
    "# Prepare for training"
   ]
  },
  {
   "cell_type": "code",
   "execution_count": null,
   "id": "56881d35",
   "metadata": {},
   "outputs": [],
   "source": [
    "set_seeds(42)\n",
    "\n",
    "unet = Unet1D(\n",
    "    dim=config.n_features,\n",
    "    in_channels=32,  # num of times\n",
    "    out_channels=32,  # dont change in_channels and out_channels\n",
    "    padding_mode=\"circular\",\n",
    "    dim_mults=config.list_channel,\n",
    ").to(DEVICE)\n",
    "\n",
    "ddpm = DDPM(config=config.ddpm, neural_net=unet, device=torch.device(DEVICE))\n",
    "\n",
    "loss_fn = make_loss(loss_name=config.loss_name)\n",
    "optimizer = torch.optim.AdamW(ddpm.parameters(), lr=config.learning_rate)\n",
    "scaler = GradScaler()"
   ]
  },
  {
   "cell_type": "markdown",
   "id": "7729b4b1",
   "metadata": {},
   "source": [
    "# Train"
   ]
  },
  {
   "cell_type": "code",
   "execution_count": null,
   "id": "80cdfba0",
   "metadata": {},
   "outputs": [],
   "source": [
    "start_time = time.time()\n",
    "\n",
    "all_scores: list[dict] = []\n",
    "set_seeds(42)\n",
    "\n",
    "with tqdm(total=config.total_epochs, desc=\"Training Progress\", unit=\"step\") as pbar:\n",
    "    for _epoch in range(config.total_epochs):\n",
    "        epoch = _epoch + 1  # 0 から始まるため，1 を足す\n",
    "\n",
    "        loss = optimize_ddpm(\n",
    "            dataloader=dataloader,\n",
    "            ddpm=ddpm,\n",
    "            loss_fn=loss_fn,\n",
    "            optimizer=optimizer,\n",
    "            epoch=epoch,\n",
    "            mode=\"train\",\n",
    "            scaler=scaler,\n",
    "            use_amp=config.use_auto_mix_precision,\n",
    "        )\n",
    "        all_scores.append({\"epoch\": epoch, \"loss\": loss})\n",
    "\n",
    "        if epoch % config.save_interval == 0:\n",
    "            p = f\"{DL_RESULT_DIR}/model_weight_{epoch:06}.pth\"\n",
    "            torch.save(ddpm.net.state_dict(), p)\n",
    "\n",
    "        if epoch % 10 == 0 or epoch == config.total_epochs:\n",
    "            p = f\"{DL_RESULT_DIR}/loss_history.csv\"\n",
    "            pd.DataFrame(all_scores).to_csv(p, index=False)\n",
    "\n",
    "        pbar.set_postfix({\"loss\": loss})\n",
    "        pbar.update(1)\n",
    "\n",
    "end_time = time.time()\n",
    "logger.info(f\"Finished. Total elapsed time = {(end_time - start_time) / 60.} min\")"
   ]
  },
  {
   "cell_type": "markdown",
   "id": "4c63a703",
   "metadata": {},
   "source": [
    "# Test"
   ]
  },
  {
   "cell_type": "code",
   "execution_count": null,
   "id": "170eb8cc",
   "metadata": {},
   "outputs": [],
   "source": [
    "epoch = config.total_epochs\n",
    "p = f\"{DL_RESULT_DIR}/model_weight_{epoch:06}.pth\"\n",
    "unet.load_state_dict(torch.load(p, map_location=DEVICE, weights_only=False))\n",
    "_ = unet.eval()"
   ]
  },
  {
   "cell_type": "markdown",
   "id": "e9de4595",
   "metadata": {},
   "source": [
    "## Run sampling"
   ]
  },
  {
   "cell_type": "code",
   "execution_count": null,
   "id": "a3dbbcdd",
   "metadata": {},
   "outputs": [],
   "source": [
    "set_seeds(42)\n",
    "dict_samples = ddpm.backward_sample_y(n_batches=50, n_return_steps=1000)\n",
    "# n_return_steps == 1000, つまり，1000 ステップを 1000 等分するように，中間状態を返す\n",
    "# この場合，1 ステップごとに返ってくる"
   ]
  },
  {
   "cell_type": "markdown",
   "id": "feff3b91",
   "metadata": {},
   "source": [
    "## Plot generated samples"
   ]
  },
  {
   "cell_type": "code",
   "execution_count": null,
   "id": "5f8d96bd",
   "metadata": {},
   "outputs": [],
   "source": [
    "last_samples = dict_samples[0]  # at t == 0\n",
    "\n",
    "plt.rcParams[\"font.size\"] = 14\n",
    "fig, axes = plt.subplots(1, 3, sharex=True, sharey=True, figsize=[10, 4])\n",
    "\n",
    "for i, ax in enumerate(axes.flatten()):\n",
    "    d = last_samples[i].cpu().numpy()\n",
    "    d = dataloader.dataset.standardize_inversely(d)\n",
    "    ts = np.arange(d.shape[0]) * 0.2  # dt = 0.2\n",
    "    xs = np.linspace(0, 2 * math.pi, 32, endpoint=False)\n",
    "    X, T = np.meshgrid(xs, ts, indexing=\"ij\")\n",
    "    ret = ax.pcolormesh(\n",
    "        X, T, d.transpose(), vmin=-9, vmax=9, cmap=\"coolwarm\", shading=\"nearest\"\n",
    "    )\n",
    "    cbar = fig.colorbar(ret, ax=ax)\n",
    "    ax.set_xlabel(r\"Space, $x$\")\n",
    "    ax.set_ylabel(r\"Time, $t$\")\n",
    "plt.tight_layout()\n",
    "plt.show()"
   ]
  },
  {
   "cell_type": "markdown",
   "id": "86c920d0",
   "metadata": {},
   "source": [
    "## Plot intermediate states during generation"
   ]
  },
  {
   "cell_type": "code",
   "execution_count": null,
   "id": "34397b1f",
   "metadata": {},
   "outputs": [],
   "source": [
    "plt.rcParams[\"font.size\"] = 12\n",
    "fig, axes = plt.subplots(2, 6, sharex=True, sharey=True, figsize=(15, 6))\n",
    "\n",
    "for t, ax in zip([100, 500, 200, 100, 80, 60, 50, 40, 30, 20, 10, 0], axes.flatten()):\n",
    "    d = dict_samples[t][0].cpu().numpy()\n",
    "    d = dataloader.dataset.standardize_inversely(d)\n",
    "\n",
    "    ts = np.arange(d.shape[0]) * 0.2  # dt = 0.2\n",
    "    xs = np.linspace(0, 2 * math.pi, 32, endpoint=False)\n",
    "    X, T = np.meshgrid(xs, ts, indexing=\"ij\")\n",
    "\n",
    "    ret = ax.pcolormesh(\n",
    "        X, T, d.transpose(), vmin=-9, vmax=9, cmap=\"coolwarm\", shading=\"nearest\"\n",
    "    )\n",
    "\n",
    "    cbar = fig.colorbar(ret, ax=ax)\n",
    "    ax.set_xlabel(r\"Space, $x$\")\n",
    "    ax.set_ylabel(r\"Time, $t$\")\n",
    "    ax.set_title(f\"Diffusion Step = {t}\")\n",
    "plt.tight_layout()\n",
    "plt.show()"
   ]
  },
  {
   "cell_type": "markdown",
   "id": "2e388d37",
   "metadata": {},
   "source": [
    "## Spectral analysis"
   ]
  },
  {
   "cell_type": "code",
   "execution_count": null,
   "id": "288c1f92",
   "metadata": {},
   "outputs": [],
   "source": [
    "gt_samples = torch.stack(\n",
    "    [dataloader.dataset[i][\"y0\"] for i in range(50)], dim=0\n",
    ").numpy()\n",
    "my_samples = dict_samples[0].cpu().numpy()  # at t == 0\n",
    "\n",
    "assert gt_samples.shape == my_samples.shape\n",
    "assert isinstance(gt_samples, np.ndarray) and isinstance(my_samples, np.ndarray)"
   ]
  },
  {
   "cell_type": "markdown",
   "id": "7ba8aa14",
   "metadata": {},
   "source": [
    "### make coordinates"
   ]
  },
  {
   "cell_type": "code",
   "execution_count": null,
   "id": "81725e27",
   "metadata": {},
   "outputs": [],
   "source": [
    "xs = dataloader.dataset.data[\"space\"].values\n",
    "ts = dataloader.dataset.data[\"time\"].values\n",
    "dt = float(np.mean(np.diff(ts.astype(np.float64))))\n",
    "dx = float(np.mean(np.diff(xs.astype(np.float64))))\n",
    "\n",
    "_, gt_psd_time_mean, _, gt_psd_space_mean = compute_1d_psds_for_lorenz96(\n",
    "    gt_samples, dt=dt, dx=dx\n",
    ")\n",
    "\n",
    "freqs_time, my_psd_time_mean, freqs_space, my_psd_space_mean = (\n",
    "    compute_1d_psds_for_lorenz96(my_samples, dt=dt, dx=dx)\n",
    ")\n",
    "\n",
    "gt_psd_2d_mean = compute_2d_psd_for_lorenz96(torch.from_numpy(gt_samples)).numpy()\n",
    "my_psd_2d_mean = compute_2d_psd_for_lorenz96(torch.from_numpy(my_samples)).numpy()"
   ]
  },
  {
   "cell_type": "markdown",
   "id": "3bd8a577",
   "metadata": {},
   "source": [
    "### plot"
   ]
  },
  {
   "cell_type": "code",
   "execution_count": null,
   "id": "10e7b4a5",
   "metadata": {},
   "outputs": [],
   "source": [
    "xs = np.zeros(32)\n",
    "xs[-17:] = freqs_space\n",
    "xs[:15] = -np.flip(freqs_space[1:16])\n",
    "\n",
    "ys = np.zeros(32)\n",
    "ys[-17:] = freqs_time\n",
    "ys[:15] = -np.flip(freqs_time[1:16])\n",
    "\n",
    "xs, ys = np.meshgrid(xs, ys, indexing=\"ij\")\n",
    "vmin, vmax = None, None\n",
    "\n",
    "plt.rcParams[\"font.size\"] = 14\n",
    "fig, axes = plt.subplots(1, 2, figsize=(12, 5))\n",
    "\n",
    "for ax, kind, data in zip(\n",
    "    axes, [\"Physics Simulation\", \"Langevin Sampling\"], [gt_psd_2d_mean, my_psd_2d_mean]\n",
    "):\n",
    "    d = data.transpose()  # time, space --> space, time\n",
    "\n",
    "    if vmin is None or vmax is None:\n",
    "        vmin, vmax = np.quantile(np.log10(d), [0.01, 0.99])\n",
    "    pm = ax.pcolormesh(xs, ys, np.log10(d), shading=\"nearest\", vmin=vmin, vmax=vmax)\n",
    "    ax.set_xlabel(r\"Wavenumber, $k$\")\n",
    "    ax.set_ylabel(r\"Frequency, $\\omega$\")\n",
    "\n",
    "    ax.set_title(kind)\n",
    "    ax.axvline(0, ls=\"--\", color=\"k\", alpha=0.5)\n",
    "    ax.axhline(0, ls=\"--\", color=\"k\", alpha=0.5)\n",
    "    fig.colorbar(pm, ax=ax, label=r\"$\\log_{10}(\\mathrm{PSD})$\", extend=\"both\")\n",
    "plt.tight_layout()\n",
    "plt.show()"
   ]
  },
  {
   "cell_type": "code",
   "execution_count": null,
   "id": "bced8bc6",
   "metadata": {},
   "outputs": [],
   "source": [
    "plt.rcParams[\"font.size\"] = 16\n",
    "fig, axes = plt.subplots(1, 2, figsize=(12, 5))\n",
    "\n",
    "for kind in [\"Physics Simulation\", \"Langevin Sampling\"]:\n",
    "\n",
    "    for t, cmap in zip(\n",
    "        reversed([1000] + list(np.arange(480, 0, -20)) + [0]),\n",
    "        plt.cm.turbo(np.linspace(0, 1, 28))[1:-1],\n",
    "    ):\n",
    "        if kind == \"Physics Simulation\" and t != 0:\n",
    "            continue\n",
    "\n",
    "        ls, label, lw = \"--\", None, 1.5\n",
    "        if kind == \"Physics Simulation\":\n",
    "            lw = 4.0\n",
    "            cmap = \"k\"\n",
    "            ls = \"-\"\n",
    "            label = r\"Phys. Sim. ${\\rm Diffusion Time}=0.0$\"\n",
    "        else:\n",
    "            if t == 1000:\n",
    "                lw = 4.0\n",
    "                label = r\"Langevin ${\\rm Diffusion Time}=1.0$\"\n",
    "            elif t == 0:\n",
    "                lw = 4.0\n",
    "                label = r\"Langevin ${\\rm Diffusion Time}=0.0$\"\n",
    "\n",
    "            _freqs_time, psd_time_mean, _freqs_space, psd_space_mean = (\n",
    "                compute_1d_psds_for_lorenz96(\n",
    "                    dict_samples[t].squeeze().numpy(), dt=dt, dx=dx\n",
    "                )\n",
    "            )\n",
    "            assert np.all(_freqs_space == freqs_space)\n",
    "            assert np.all(_freqs_time == freqs_time)\n",
    "\n",
    "        d = gt_psd_time_mean if kind == \"Physics Simulation\" else psd_time_mean\n",
    "        axes[0].plot(freqs_time, d, lw=lw, color=cmap, ls=ls, label=label)\n",
    "        axes[0].set_title(\"PSD in Time Direction\")\n",
    "        axes[0].set_xlabel(r\"Frequency, $\\omega$ (1/time)\")\n",
    "        axes[0].set_ylabel(\"Power Spectral Density\")\n",
    "        axes[0].set_xscale(\"log\")\n",
    "        axes[0].set_yscale(\"log\")\n",
    "        axes[0].legend(loc=\"lower left\", fontsize=15)\n",
    "\n",
    "        d = gt_psd_space_mean if kind == \"Physics Simulation\" else psd_space_mean\n",
    "        axes[1].plot(freqs_space, d, lw=lw, color=cmap, ls=ls, label=label)\n",
    "        axes[1].set_title(\"PSD in Space Direction\")\n",
    "        axes[1].set_xlabel(r\"Wavenumber, $k$ (1/space)\")\n",
    "        axes[1].set_ylabel(\"Power Spectral Density\")\n",
    "        axes[1].set_xscale(\"log\")\n",
    "        axes[1].set_yscale(\"log\")\n",
    "\n",
    "plt.tight_layout()\n",
    "plt.show()"
   ]
  },
  {
   "cell_type": "markdown",
   "id": "c19ffa20",
   "metadata": {},
   "source": [
    "- ノイズによりエネルギーが注入され，スペクトルが平坦に近づく\n",
    "- 逆過程では，その平坦なスペクトルから初めて，段々と時空間構造を復元する\n",
    "- ノイズは，全ての格子点で独立に作用し，データの時空間構造を一切加味することなく破壊する\n",
    "- そのため，エネルギーが平均より大きいスケールでエネルギーの注入が起こり，逆にエネルギーが小さいスケールでエネルギーの減衰が起こる\n",
    "- この注入と減衰は，スケールの大きさではなくて，エネルギーの大きさで決定される\n",
    "- 例えば，空間スペクトルを見ると，$k$ の小さな領域と大きな領域でエネルギーが注入されている"
   ]
  }
 ],
 "metadata": {
  "kernelspec": {
   "display_name": "Python 3",
   "language": "python",
   "name": "python3"
  },
  "language_info": {
   "codemirror_mode": {
    "name": "ipython",
    "version": 3
   },
   "file_extension": ".py",
   "mimetype": "text/x-python",
   "name": "python",
   "nbconvert_exporter": "python",
   "pygments_lexer": "ipython3",
   "version": "3.11.13"
  }
 },
 "nbformat": 4,
 "nbformat_minor": 5
}
