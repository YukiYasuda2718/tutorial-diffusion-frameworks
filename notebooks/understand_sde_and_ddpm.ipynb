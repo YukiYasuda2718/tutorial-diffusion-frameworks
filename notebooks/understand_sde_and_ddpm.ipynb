{
 "cells": [
  {
   "cell_type": "code",
   "execution_count": null,
   "id": "0e2ff9e8",
   "metadata": {},
   "outputs": [],
   "source": [
    "%load_ext autoreload\n",
    "%autoreload 2\n",
    "%matplotlib inline"
   ]
  },
  {
   "cell_type": "markdown",
   "id": "34ad1225",
   "metadata": {},
   "source": [
    "# Import"
   ]
  },
  {
   "cell_type": "code",
   "execution_count": null,
   "id": "3fa54e6c",
   "metadata": {},
   "outputs": [],
   "source": [
    "import sys\n",
    "from logging import INFO, StreamHandler, getLogger\n",
    "\n",
    "logger = getLogger()\n",
    "if not logger.hasHandlers():\n",
    "    logger.addHandler(StreamHandler(sys.stdout))\n",
    "logger.setLevel(INFO)"
   ]
  },
  {
   "cell_type": "code",
   "execution_count": null,
   "id": "372763d4",
   "metadata": {},
   "outputs": [],
   "source": [
    "import os\n",
    "import math\n",
    "import pathlib\n",
    "\n",
    "import torch\n",
    "import numpy as np\n",
    "import matplotlib.pyplot as plt\n",
    "from torch.distributions import Categorical, Normal\n",
    "\n",
    "from src.frameworks.ddpm import DDPMConfig, DDPM\n",
    "\n",
    "plt.rcParams[\"font.family\"] = \"serif\"\n",
    "plt.style.use(\"tableau-colorblind10\")"
   ]
  },
  {
   "cell_type": "markdown",
   "id": "1dc46bc5",
   "metadata": {},
   "source": [
    "# Define constants"
   ]
  },
  {
   "cell_type": "code",
   "execution_count": null,
   "id": "e97d004a",
   "metadata": {},
   "outputs": [],
   "source": [
    "ROOT_DIR = pathlib.Path(os.environ[\"PYTHONPATH\"].split(\":\")[0]).resolve()"
   ]
  },
  {
   "cell_type": "markdown",
   "id": "6b86baa3",
   "metadata": {},
   "source": [
    "# Run an SDE"
   ]
  },
  {
   "cell_type": "markdown",
   "id": "423330b3",
   "metadata": {},
   "source": [
    "$$\n",
    "dx = -\\mu x dt + \\sigma dW\n",
    "$$\n",
    "- 初期分布を混合正規分布に取る (二峰分布)"
   ]
  },
  {
   "cell_type": "code",
   "execution_count": null,
   "id": "161e8c4c",
   "metadata": {},
   "outputs": [],
   "source": [
    "# Mixed Gaussian\n",
    "init_means = [4.0, -3.0]\n",
    "init_stds = [2.0, 1.0]\n",
    "gauss_weights = [0.6, 0.4]\n",
    "\n",
    "b = 2_000  # n_batches\n",
    "n_steps = 1_000\n",
    "dt = 1.0 / n_steps\n",
    "\n",
    "# OU process: dx = -mu x dt + sigma dW\n",
    "mu = 5.0\n",
    "sigma = np.sqrt(2.0 * mu)\n",
    "\n",
    "idxs = Categorical(torch.tensor(gauss_weights)).sample((b,))\n",
    "y0 = torch.normal(\n",
    "    mean=torch.tensor(init_means)[idxs], std=torch.tensor(init_stds)[idxs]\n",
    ")\n",
    "dW = math.sqrt(dt) * torch.randn(size=(b, n_steps))\n",
    "\n",
    "yt = torch.zeros((b, n_steps + 1))\n",
    "current = y0\n",
    "yt[:, 0] = current.detach().clone()\n",
    "\n",
    "for i in range(n_steps):\n",
    "    current = current - mu * current * dt + sigma * dW[:, i]\n",
    "    yt[:, i + 1] = current.detach().clone()"
   ]
  },
  {
   "cell_type": "code",
   "execution_count": null,
   "id": "66030745",
   "metadata": {},
   "outputs": [],
   "source": [
    "ts = torch.linspace(0, 1, n_steps + 1)\n",
    "\n",
    "plt.rcParams[\"font.size\"] = 14\n",
    "fig = plt.plot()\n",
    "ax = plt.subplot()\n",
    "\n",
    "interval = 4\n",
    "for i in range(100):\n",
    "    ax.plot(ts[::interval], yt[i][::interval], lw=0.5, alpha=0.5)\n",
    "\n",
    "ax.set_xlabel(r\"Time, $t$\")\n",
    "ax.set_ylabel(r\"State, $x$\")\n",
    "plt.show()"
   ]
  },
  {
   "cell_type": "code",
   "execution_count": null,
   "id": "37155d5b",
   "metadata": {},
   "outputs": [],
   "source": [
    "plt.rcParams[\"font.size\"] = 14\n",
    "fig, axes = plt.subplots(2, 6, sharex=True, sharey=True, figsize=(20, 6))\n",
    "\n",
    "for t, ax in zip([0, 1, 2, 5, 10, 20, 50, 100, 200, 500, 750, 1000], axes.flatten()):\n",
    "    data = yt[:, t].numpy().flatten()\n",
    "    ax.hist(data, range=(-10, 10), bins=100, density=True, alpha=1.0)\n",
    "    ax.set_xlim(-10, 10)\n",
    "    ax.set_title(f\"Timestep={t:04}/{config.n_timesteps}\")\n",
    "    ax.set_ylabel(\"PDF\")\n",
    "    ax.axvline(0, color=\"gray\")\n",
    "\n",
    "plt.tight_layout()\n",
    "plt.show()"
   ]
  },
  {
   "cell_type": "markdown",
   "id": "d2965f0a",
   "metadata": {},
   "source": [
    "# Make a DDPM instance"
   ]
  },
  {
   "cell_type": "markdown",
   "id": "615cf484",
   "metadata": {},
   "source": [
    "- 分散保存型 (Variance-Preserving; VP) の拡散モデルを扱う．\n",
    "- 順過程は下の様に書ける\n",
    "$$\n",
    "\\begin{align}\n",
    "dx_t &= - \\mu_t x \\; dt + \\sqrt{2*\\mu_t} \\; dW \\quad (t \\in [0,1]) \\\\\n",
    "\\end{align}\n",
    "$$"
   ]
  },
  {
   "cell_type": "code",
   "execution_count": null,
   "id": "0e0b0e91",
   "metadata": {},
   "outputs": [],
   "source": [
    "# OU process: dx = -mu x dt + sigma dW\n",
    "mu = 5.0\n",
    "sigma = np.sqrt(2.0 * mu)\n",
    "\n",
    "# Mixed Gaussian\n",
    "init_means = [4.0, -3.0]\n",
    "init_stds = [2.0, 1.0]\n",
    "gauss_weights = [0.6, 0.4]\n",
    "\n",
    "config = DDPMConfig(\n",
    "    start_beta=2 * mu,  # 始点と終点の beta の設定値を一定にすると，上の mu も一定となる\n",
    "    end_beta=2 * mu,  # mu = beta / 2 (i.e., beta = 2 mu) の関係あり\n",
    "    n_timesteps=1_000,\n",
    "    n_channels=1,\n",
    "    n_spaces=1,\n",
    ")\n",
    "\n",
    "\n",
    "class ExactScoreFunc(torch.nn.Module):\n",
    "\n",
    "    def __init__(\n",
    "        self,\n",
    "        mu: float,\n",
    "        sigma: float,\n",
    "        n_t: int,\n",
    "        init_means: list[float],\n",
    "        init_stds: list[float],\n",
    "        gauss_weights: list[float],\n",
    "    ):\n",
    "        super().__init__()\n",
    "\n",
    "        times = torch.linspace(0, 1, n_t + 1, dtype=torch.float32)\n",
    "\n",
    "        # 線形 SDE (OU 過程) の解より得られる分散などの解析形\n",
    "        self.m_t = torch.exp(-mu * times)[1:]\n",
    "        self.v_t = (sigma**2 / (2 * mu) * (1.0 - torch.exp(-2 * mu * times)))[1:]\n",
    "        self.s_t = torch.sqrt(self.v_t)\n",
    "\n",
    "        assert len(init_means) == len(init_stds) == len(gauss_weights)\n",
    "        self.init_means = torch.tensor(init_means)\n",
    "        self.init_stds = torch.tensor(init_stds)\n",
    "        self.gauss_weights = torch.tensor(gauss_weights)\n",
    "\n",
    "    def potential(self, yt: torch.Tensor, t_index: int):\n",
    "        assert yt.ndim == 3  # batch, channel, and space\n",
    "        m_t = torch.index_select(self.m_t, dim=0, index=t_index)[:, None, None]\n",
    "        v_t = torch.index_select(self.v_t, dim=0, index=t_index)[:, None, None]\n",
    "        # add channel and space dims\n",
    "\n",
    "        # Calculate prob for the mixed Gaussian\n",
    "        probs = torch.zeros_like(yt)\n",
    "        for i in range(self.init_means.shape[0]):\n",
    "            mean = self.init_means[i] * m_t\n",
    "            var = self.init_stds[i] ** 2 * m_t**2 + v_t\n",
    "            p = torch.exp(-0.5 * (yt - mean) ** 2 / var) / torch.sqrt(2 * math.pi * var)\n",
    "            probs += self.gauss_weights[i] * p\n",
    "\n",
    "        return -torch.log(probs)\n",
    "\n",
    "    def score(self, yt: torch.Tensor, t_index: int) -> torch.Tensor:\n",
    "        assert yt.ndim == 3  # batch, channel, and space\n",
    "        m_t = torch.index_select(self.m_t, dim=0, index=t_index)[:, None, None]\n",
    "        v_t = torch.index_select(self.v_t, dim=0, index=t_index)[:, None, None]\n",
    "        # add channel and space dims\n",
    "\n",
    "        # Calculate prob for the mixed Gaussian\n",
    "        probs = torch.zeros_like(yt)\n",
    "        for i in range(self.init_means.shape[0]):\n",
    "            mean = self.init_means[i] * m_t\n",
    "            var = self.init_stds[i] ** 2 * m_t**2 + v_t\n",
    "            p = torch.exp(-0.5 * (yt - mean) ** 2 / var) / torch.sqrt(2 * math.pi * var)\n",
    "            probs += self.gauss_weights[i] * p\n",
    "\n",
    "        scores = torch.zeros_like(yt)\n",
    "        for i in range(self.init_means.shape[0]):\n",
    "            mean = self.init_means[i] * m_t\n",
    "            var = self.init_stds[i] ** 2 * m_t**2 + v_t\n",
    "            p = torch.exp(-0.5 * (yt - mean) ** 2 / var) / torch.sqrt(2 * math.pi * var)\n",
    "            scores = scores - (self.gauss_weights[i] * p / probs) * (yt - mean) / var\n",
    "\n",
    "        return scores\n",
    "\n",
    "    def forward(self, yt: torch.Tensor, t_index: int, **kwargs) -> torch.Tensor:\n",
    "        assert yt.ndim == 3  # batch, channel, and space\n",
    "        scores = self.score(yt, t_index)\n",
    "        s_t = torch.index_select(self.s_t, dim=0, index=t_index)[:, None, None]\n",
    "        # add channel and space dims\n",
    "        return (-s_t * scores).to(torch.float32)  # estimate noise\n",
    "\n",
    "\n",
    "score_network = ExactScoreFunc(\n",
    "    mu=mu,\n",
    "    sigma=sigma,\n",
    "    n_t=config.n_timesteps,\n",
    "    init_means=init_means,\n",
    "    init_stds=init_stds,\n",
    "    gauss_weights=gauss_weights,\n",
    ")\n",
    "\n",
    "ddpm = DDPM(config=config, neural_net=score_network)"
   ]
  },
  {
   "cell_type": "markdown",
   "id": "fca66794",
   "metadata": {},
   "source": [
    "# Check variance preserving"
   ]
  },
  {
   "cell_type": "markdown",
   "id": "93512e84",
   "metadata": {},
   "source": [
    "- 分散保存型であることの確認\n",
    "$$\n",
    "{\\rm Var}\\left[x_t^2\\right]= {\\rm Var}\\left[x_0^2\\right]  + \\left(1 - e^{-2 \\mu t}\\right)\n",
    "$$\n",
    "- 第二項が拡散モデル内部で用いるノイズの標準偏差を表す\n",
    "- 初期データ $x_0$ の分散が 1 に規格化されていると仮定すれば，全分散は常に 1 となる"
   ]
  },
  {
   "cell_type": "code",
   "execution_count": null,
   "id": "b0c965b0",
   "metadata": {},
   "outputs": [],
   "source": [
    "plt.rcParams[\"font.size\"] = 14\n",
    "plt.plot(ddpm.decays, label=r\"${\\rm decay} = e^{-\\mu t}$\")\n",
    "plt.plot(ddpm.stds, label=r\"${\\rm std} = \\sqrt{1-e^{-2\\mu t}}$\")\n",
    "vars = ddpm.decays**2 + ddpm.stds**2\n",
    "plt.plot(vars, label=\"total vars\")\n",
    "plt.axhline(0.0, ls=\"--\")\n",
    "plt.xlabel(\"Num. of Time Steps\")\n",
    "plt.legend()\n",
    "plt.show()"
   ]
  },
  {
   "cell_type": "markdown",
   "id": "59b90912",
   "metadata": {},
   "source": [
    "# Forward process"
   ]
  },
  {
   "cell_type": "code",
   "execution_count": null,
   "id": "0a3cefac",
   "metadata": {},
   "outputs": [],
   "source": [
    "b = 10_000\n",
    "idxs = Categorical(torch.tensor(gauss_weights)).sample((b,))\n",
    "y0 = torch.normal(\n",
    "    mean=torch.tensor(init_means)[idxs], std=torch.tensor(init_stds)[idxs]\n",
    ")[:, None, None]\n",
    "\n",
    "plt.rcParams[\"font.size\"] = 14\n",
    "fig, axes = plt.subplots(2, 6, sharex=True, sharey=True, figsize=(20, 6))\n",
    "for t, ax in zip(torch.arange(-1, config.n_timesteps + 1, 100), axes.flatten()):\n",
    "    if t == -1:\n",
    "        yt = y0.detach().clone()\n",
    "    else:\n",
    "        noise = torch.randn_like(y0)\n",
    "        yt = ddpm._forward_sample_y(\n",
    "            y0=y0,\n",
    "            t_index=torch.full((b,), fill_value=t, dtype=torch.long),\n",
    "            noise=noise,\n",
    "        )\n",
    "    data = yt[:, 0, 0].numpy().flatten()\n",
    "    ax.hist(data, range=(-10, 10), bins=100, density=True)\n",
    "    ax.set_xlim(-10, 10)\n",
    "    ax.set_title(f\"t={t+1}\\nmean={np.mean(data):.2f},std={np.std(data):.2f}\")\n",
    "    ax.set_ylabel(\"PDF\")\n",
    "    ax.axvline(0, color=\"k\")\n",
    "plt.tight_layout()\n",
    "plt.show()"
   ]
  },
  {
   "cell_type": "markdown",
   "id": "5e400548",
   "metadata": {},
   "source": [
    "# Backward process"
   ]
  },
  {
   "cell_type": "markdown",
   "id": "dd6bfea7",
   "metadata": {},
   "source": [
    "- 逆過程では，正規分布から始まり，混合正規分布へと発展させる\n",
    "- 混合正規分布の FPE の解は解析的に書ける\n",
    "- この結果を利用して，厳密にスコア関数を与えて，逆 SDE を解いている"
   ]
  },
  {
   "cell_type": "code",
   "execution_count": null,
   "id": "6942605d",
   "metadata": {},
   "outputs": [],
   "source": [
    "ddpm.net.eval()\n",
    "lst_img = ddpm.backward_sample_y(n_batches=10_000, n_return_steps=config.n_timesteps)"
   ]
  },
  {
   "cell_type": "code",
   "execution_count": null,
   "id": "e93a880a",
   "metadata": {},
   "outputs": [],
   "source": [
    "plt.rcParams[\"font.size\"] = 14\n",
    "fig, axes = plt.subplots(2, 6, sharex=True, sharey=True, figsize=(20, 6))\n",
    "\n",
    "for t, ax in zip([0, 1, 2, 5, 10, 20, 50, 100, 200, 500, 750, 1000], axes.flatten()):\n",
    "    data = lst_img[int(t)][:, 0, 0].numpy().flatten()\n",
    "    ax.hist(data, range=(-10, 10), bins=100, density=True, alpha=0.3)\n",
    "    ax.set_xlim(-10, 10)\n",
    "    ax.set_title(f\"Timestep={t:04}/{config.n_timesteps}\")\n",
    "    ax.set_ylabel(\"PDF\")\n",
    "    ax.axvline(0, color=\"gray\")\n",
    "\n",
    "    for x in init_means:\n",
    "        ax.axvline(x, ls=\"--\", lw=0.5, alpha=0.5, color=\"gray\")\n",
    "\n",
    "    yt = torch.linspace(-10, 10, 101)[:, None, None]\n",
    "    if t < config.n_timesteps:\n",
    "        # add channel and space dim\n",
    "        dummy_t = torch.full(size=(101,), fill_value=t).long()\n",
    "        potential = score_network.potential(yt, dummy_t)\n",
    "    else:\n",
    "        potential = 0.5 * yt**2\n",
    "\n",
    "    ax2 = ax.twinx()\n",
    "    ax2.plot(yt.squeeze(), potential.squeeze(), ls=\"-\", lw=2.0, color=\"coral\")\n",
    "    ax2.set_ylim(0, 20)\n",
    "\n",
    "plt.tight_layout()\n",
    "plt.show()"
   ]
  },
  {
   "cell_type": "markdown",
   "id": "497c0321",
   "metadata": {},
   "source": [
    "- 各パスを調べてみると，単峰の正規分布から二峰の混合正規分布に分かれている\n",
    "- 逆 SDE を解いているため，時刻は $t=1.0$ から $t=0.0$ に向かっている\n",
    "- SDE は Euler-Maruyama 法で解いている"
   ]
  },
  {
   "cell_type": "code",
   "execution_count": null,
   "id": "68a6a426",
   "metadata": {},
   "outputs": [],
   "source": [
    "ts = sorted(lst_img.keys())\n",
    "yt = torch.stack([lst_img[t][:100].squeeze() for t in ts], dim=1)\n",
    "\n",
    "plt.rcParams[\"font.size\"] = 14\n",
    "fig = plt.plot()\n",
    "ax = plt.subplot()\n",
    "\n",
    "interval = 4\n",
    "for i in range(100):\n",
    "    ax.plot(ts[::interval] / np.max(ts), yt[i][::interval], lw=0.5, alpha=0.5)\n",
    "\n",
    "ax.set_xlabel(r\"Time, $t$\")\n",
    "ax.set_ylabel(r\"State, $x$\")"
   ]
  },
  {
   "cell_type": "code",
   "execution_count": null,
   "id": "db046969",
   "metadata": {},
   "outputs": [],
   "source": []
  }
 ],
 "metadata": {
  "kernelspec": {
   "display_name": "Python 3",
   "language": "python",
   "name": "python3"
  },
  "language_info": {
   "codemirror_mode": {
    "name": "ipython",
    "version": 3
   },
   "file_extension": ".py",
   "mimetype": "text/x-python",
   "name": "python",
   "nbconvert_exporter": "python",
   "pygments_lexer": "ipython3",
   "version": "3.11.13"
  }
 },
 "nbformat": 4,
 "nbformat_minor": 5
}
